{
 "cells": [
  {
   "cell_type": "code",
   "execution_count": 1,
   "metadata": {},
   "outputs": [],
   "source": [
    "# import libraries\n",
    "\n",
    "import numpy as np\n",
    "import pandas as pd\n",
    "import matplotlib.pyplot as plt\n",
    "%matplotlib inline\n",
    "import seaborn as sns\n",
    "\n",
    "pd.set_option('display.max_columns', None)\n",
    "\n",
    "from sklearn.model_selection import train_test_split\n",
    "from sklearn.tree import DecisionTreeClassifier\n",
    "from sklearn.neighbors import KNeighborsClassifier\n",
    "from sklearn.linear_model import LogisticRegression\n",
    "from sklearn.metrics import classification_report\n",
    "from sklearn import metrics\n",
    "from sklearn.model_selection import cross_val_score\n",
    "from sklearn.metrics import recall_score\n",
    "from sklearn.model_selection import cross_validate\n",
    "from sklearn.model_selection import GridSearchCV\n",
    "from sklearn.ensemble import RandomForestClassifier\n",
    "from sklearn.datasets import make_classification\n",
    "from imblearn.over_sampling import SMOTE\n",
    "\n",
    "import warnings"
   ]
  },
  {
   "cell_type": "markdown",
   "metadata": {},
   "source": [
    "## Import File"
   ]
  },
  {
   "cell_type": "code",
   "execution_count": 2,
   "metadata": {},
   "outputs": [],
   "source": [
    "df = pd.read_csv('fetal_health.csv', index_col=0)"
   ]
  },
  {
   "cell_type": "markdown",
   "metadata": {},
   "source": [
    "## EDA"
   ]
  },
  {
   "cell_type": "code",
   "execution_count": 3,
   "metadata": {
    "scrolled": true
   },
   "outputs": [
    {
     "data": {
      "text/html": [
       "<div>\n",
       "<style scoped>\n",
       "    .dataframe tbody tr th:only-of-type {\n",
       "        vertical-align: middle;\n",
       "    }\n",
       "\n",
       "    .dataframe tbody tr th {\n",
       "        vertical-align: top;\n",
       "    }\n",
       "\n",
       "    .dataframe thead th {\n",
       "        text-align: right;\n",
       "    }\n",
       "</style>\n",
       "<table border=\"1\" class=\"dataframe\">\n",
       "  <thead>\n",
       "    <tr style=\"text-align: right;\">\n",
       "      <th></th>\n",
       "      <th>accelerations</th>\n",
       "      <th>fetal_movement</th>\n",
       "      <th>uterine_contractions</th>\n",
       "      <th>light_decelerations</th>\n",
       "      <th>severe_decelerations</th>\n",
       "      <th>prolongued_decelerations</th>\n",
       "      <th>abnormal_short_term_variability</th>\n",
       "      <th>mean_value_of_short_term_variability</th>\n",
       "      <th>percentage_of_time_with_abnormal_long_term_variability</th>\n",
       "      <th>mean_value_of_long_term_variability</th>\n",
       "      <th>histogram_width</th>\n",
       "      <th>histogram_min</th>\n",
       "      <th>histogram_max</th>\n",
       "      <th>histogram_number_of_peaks</th>\n",
       "      <th>histogram_number_of_zeroes</th>\n",
       "      <th>histogram_mode</th>\n",
       "      <th>histogram_mean</th>\n",
       "      <th>histogram_median</th>\n",
       "      <th>histogram_variance</th>\n",
       "      <th>histogram_tendency</th>\n",
       "      <th>fetal_health</th>\n",
       "    </tr>\n",
       "    <tr>\n",
       "      <th>baseline value</th>\n",
       "      <th></th>\n",
       "      <th></th>\n",
       "      <th></th>\n",
       "      <th></th>\n",
       "      <th></th>\n",
       "      <th></th>\n",
       "      <th></th>\n",
       "      <th></th>\n",
       "      <th></th>\n",
       "      <th></th>\n",
       "      <th></th>\n",
       "      <th></th>\n",
       "      <th></th>\n",
       "      <th></th>\n",
       "      <th></th>\n",
       "      <th></th>\n",
       "      <th></th>\n",
       "      <th></th>\n",
       "      <th></th>\n",
       "      <th></th>\n",
       "      <th></th>\n",
       "    </tr>\n",
       "  </thead>\n",
       "  <tbody>\n",
       "    <tr>\n",
       "      <th>134</th>\n",
       "      <td>0.001</td>\n",
       "      <td>0.0</td>\n",
       "      <td>0.010</td>\n",
       "      <td>0.009</td>\n",
       "      <td>0.0</td>\n",
       "      <td>0.002</td>\n",
       "      <td>26</td>\n",
       "      <td>5.9</td>\n",
       "      <td>0</td>\n",
       "      <td>0.0</td>\n",
       "      <td>150</td>\n",
       "      <td>50</td>\n",
       "      <td>200</td>\n",
       "      <td>5</td>\n",
       "      <td>3</td>\n",
       "      <td>76</td>\n",
       "      <td>107</td>\n",
       "      <td>107</td>\n",
       "      <td>170</td>\n",
       "      <td>0</td>\n",
       "      <td>3</td>\n",
       "    </tr>\n",
       "    <tr>\n",
       "      <th>134</th>\n",
       "      <td>0.001</td>\n",
       "      <td>0.0</td>\n",
       "      <td>0.013</td>\n",
       "      <td>0.008</td>\n",
       "      <td>0.0</td>\n",
       "      <td>0.003</td>\n",
       "      <td>29</td>\n",
       "      <td>6.3</td>\n",
       "      <td>0</td>\n",
       "      <td>0.0</td>\n",
       "      <td>150</td>\n",
       "      <td>50</td>\n",
       "      <td>200</td>\n",
       "      <td>6</td>\n",
       "      <td>3</td>\n",
       "      <td>71</td>\n",
       "      <td>107</td>\n",
       "      <td>106</td>\n",
       "      <td>215</td>\n",
       "      <td>0</td>\n",
       "      <td>3</td>\n",
       "    </tr>\n",
       "    <tr>\n",
       "      <th>122</th>\n",
       "      <td>0.000</td>\n",
       "      <td>0.0</td>\n",
       "      <td>0.000</td>\n",
       "      <td>0.000</td>\n",
       "      <td>0.0</td>\n",
       "      <td>0.000</td>\n",
       "      <td>83</td>\n",
       "      <td>0.5</td>\n",
       "      <td>6</td>\n",
       "      <td>15.6</td>\n",
       "      <td>68</td>\n",
       "      <td>62</td>\n",
       "      <td>130</td>\n",
       "      <td>0</td>\n",
       "      <td>0</td>\n",
       "      <td>122</td>\n",
       "      <td>122</td>\n",
       "      <td>123</td>\n",
       "      <td>3</td>\n",
       "      <td>1</td>\n",
       "      <td>3</td>\n",
       "    </tr>\n",
       "    <tr>\n",
       "      <th>122</th>\n",
       "      <td>0.000</td>\n",
       "      <td>0.0</td>\n",
       "      <td>0.002</td>\n",
       "      <td>0.000</td>\n",
       "      <td>0.0</td>\n",
       "      <td>0.000</td>\n",
       "      <td>84</td>\n",
       "      <td>0.5</td>\n",
       "      <td>5</td>\n",
       "      <td>13.6</td>\n",
       "      <td>68</td>\n",
       "      <td>62</td>\n",
       "      <td>130</td>\n",
       "      <td>0</td>\n",
       "      <td>0</td>\n",
       "      <td>122</td>\n",
       "      <td>122</td>\n",
       "      <td>123</td>\n",
       "      <td>3</td>\n",
       "      <td>1</td>\n",
       "      <td>3</td>\n",
       "    </tr>\n",
       "    <tr>\n",
       "      <th>122</th>\n",
       "      <td>0.000</td>\n",
       "      <td>0.0</td>\n",
       "      <td>0.003</td>\n",
       "      <td>0.000</td>\n",
       "      <td>0.0</td>\n",
       "      <td>0.000</td>\n",
       "      <td>86</td>\n",
       "      <td>0.3</td>\n",
       "      <td>6</td>\n",
       "      <td>10.6</td>\n",
       "      <td>68</td>\n",
       "      <td>62</td>\n",
       "      <td>130</td>\n",
       "      <td>1</td>\n",
       "      <td>0</td>\n",
       "      <td>122</td>\n",
       "      <td>122</td>\n",
       "      <td>123</td>\n",
       "      <td>1</td>\n",
       "      <td>1</td>\n",
       "      <td>3</td>\n",
       "    </tr>\n",
       "  </tbody>\n",
       "</table>\n",
       "</div>"
      ],
      "text/plain": [
       "                accelerations  fetal_movement  uterine_contractions  \\\n",
       "baseline value                                                        \n",
       "134                     0.001             0.0                 0.010   \n",
       "134                     0.001             0.0                 0.013   \n",
       "122                     0.000             0.0                 0.000   \n",
       "122                     0.000             0.0                 0.002   \n",
       "122                     0.000             0.0                 0.003   \n",
       "\n",
       "                light_decelerations  severe_decelerations  \\\n",
       "baseline value                                              \n",
       "134                           0.009                   0.0   \n",
       "134                           0.008                   0.0   \n",
       "122                           0.000                   0.0   \n",
       "122                           0.000                   0.0   \n",
       "122                           0.000                   0.0   \n",
       "\n",
       "                prolongued_decelerations  abnormal_short_term_variability  \\\n",
       "baseline value                                                              \n",
       "134                                0.002                               26   \n",
       "134                                0.003                               29   \n",
       "122                                0.000                               83   \n",
       "122                                0.000                               84   \n",
       "122                                0.000                               86   \n",
       "\n",
       "                mean_value_of_short_term_variability  \\\n",
       "baseline value                                         \n",
       "134                                              5.9   \n",
       "134                                              6.3   \n",
       "122                                              0.5   \n",
       "122                                              0.5   \n",
       "122                                              0.3   \n",
       "\n",
       "                percentage_of_time_with_abnormal_long_term_variability  \\\n",
       "baseline value                                                           \n",
       "134                                                             0        \n",
       "134                                                             0        \n",
       "122                                                             6        \n",
       "122                                                             5        \n",
       "122                                                             6        \n",
       "\n",
       "                mean_value_of_long_term_variability  histogram_width  \\\n",
       "baseline value                                                         \n",
       "134                                             0.0              150   \n",
       "134                                             0.0              150   \n",
       "122                                            15.6               68   \n",
       "122                                            13.6               68   \n",
       "122                                            10.6               68   \n",
       "\n",
       "                histogram_min  histogram_max  histogram_number_of_peaks  \\\n",
       "baseline value                                                            \n",
       "134                        50            200                          5   \n",
       "134                        50            200                          6   \n",
       "122                        62            130                          0   \n",
       "122                        62            130                          0   \n",
       "122                        62            130                          1   \n",
       "\n",
       "                histogram_number_of_zeroes  histogram_mode  histogram_mean  \\\n",
       "baseline value                                                               \n",
       "134                                      3              76             107   \n",
       "134                                      3              71             107   \n",
       "122                                      0             122             122   \n",
       "122                                      0             122             122   \n",
       "122                                      0             122             122   \n",
       "\n",
       "                histogram_median  histogram_variance  histogram_tendency  \\\n",
       "baseline value                                                             \n",
       "134                          107                 170                   0   \n",
       "134                          106                 215                   0   \n",
       "122                          123                   3                   1   \n",
       "122                          123                   3                   1   \n",
       "122                          123                   1                   1   \n",
       "\n",
       "                fetal_health  \n",
       "baseline value                \n",
       "134                        3  \n",
       "134                        3  \n",
       "122                        3  \n",
       "122                        3  \n",
       "122                        3  "
      ]
     },
     "execution_count": 3,
     "metadata": {},
     "output_type": "execute_result"
    }
   ],
   "source": [
    "df.head()"
   ]
  },
  {
   "cell_type": "code",
   "execution_count": 4,
   "metadata": {},
   "outputs": [
    {
     "data": {
      "text/plain": [
       "accelerations                                             float64\n",
       "fetal_movement                                            float64\n",
       "uterine_contractions                                      float64\n",
       "light_decelerations                                       float64\n",
       "severe_decelerations                                      float64\n",
       "prolongued_decelerations                                  float64\n",
       "abnormal_short_term_variability                             int64\n",
       "mean_value_of_short_term_variability                      float64\n",
       "percentage_of_time_with_abnormal_long_term_variability      int64\n",
       "mean_value_of_long_term_variability                       float64\n",
       "histogram_width                                             int64\n",
       "histogram_min                                               int64\n",
       "histogram_max                                               int64\n",
       "histogram_number_of_peaks                                   int64\n",
       "histogram_number_of_zeroes                                  int64\n",
       "histogram_mode                                              int64\n",
       "histogram_mean                                              int64\n",
       "histogram_median                                            int64\n",
       "histogram_variance                                          int64\n",
       "histogram_tendency                                          int64\n",
       "fetal_health                                                int64\n",
       "dtype: object"
      ]
     },
     "execution_count": 4,
     "metadata": {},
     "output_type": "execute_result"
    }
   ],
   "source": [
    "df.dtypes"
   ]
  },
  {
   "cell_type": "code",
   "execution_count": 5,
   "metadata": {
    "scrolled": false
   },
   "outputs": [
    {
     "data": {
      "text/plain": [
       "accelerations                                             False\n",
       "fetal_movement                                            False\n",
       "uterine_contractions                                      False\n",
       "light_decelerations                                       False\n",
       "severe_decelerations                                      False\n",
       "prolongued_decelerations                                  False\n",
       "abnormal_short_term_variability                           False\n",
       "mean_value_of_short_term_variability                      False\n",
       "percentage_of_time_with_abnormal_long_term_variability    False\n",
       "mean_value_of_long_term_variability                       False\n",
       "histogram_width                                           False\n",
       "histogram_min                                             False\n",
       "histogram_max                                             False\n",
       "histogram_number_of_peaks                                 False\n",
       "histogram_number_of_zeroes                                False\n",
       "histogram_mode                                            False\n",
       "histogram_mean                                            False\n",
       "histogram_median                                          False\n",
       "histogram_variance                                        False\n",
       "histogram_tendency                                        False\n",
       "fetal_health                                              False\n",
       "dtype: bool"
      ]
     },
     "execution_count": 5,
     "metadata": {},
     "output_type": "execute_result"
    }
   ],
   "source": [
    "df.isna().any()"
   ]
  },
  {
   "cell_type": "code",
   "execution_count": 6,
   "metadata": {
    "scrolled": true
   },
   "outputs": [
    {
     "data": {
      "text/plain": [
       "Index(['accelerations', 'fetal_movement', 'uterine_contractions',\n",
       "       'light_decelerations', 'severe_decelerations',\n",
       "       'prolongued_decelerations', 'abnormal_short_term_variability',\n",
       "       'mean_value_of_short_term_variability',\n",
       "       'percentage_of_time_with_abnormal_long_term_variability',\n",
       "       'mean_value_of_long_term_variability', 'histogram_width',\n",
       "       'histogram_min', 'histogram_max', 'histogram_number_of_peaks',\n",
       "       'histogram_number_of_zeroes', 'histogram_mode', 'histogram_mean',\n",
       "       'histogram_median', 'histogram_variance', 'histogram_tendency',\n",
       "       'fetal_health'],\n",
       "      dtype='object')"
      ]
     },
     "execution_count": 6,
     "metadata": {},
     "output_type": "execute_result"
    }
   ],
   "source": [
    "df.columns"
   ]
  },
  {
   "cell_type": "code",
   "execution_count": 7,
   "metadata": {
    "scrolled": true
   },
   "outputs": [
    {
     "data": {
      "text/plain": [
       "<matplotlib.axes._subplots.AxesSubplot at 0x7fabed51cbe0>"
      ]
     },
     "execution_count": 7,
     "metadata": {},
     "output_type": "execute_result"
    },
    {
     "data": {
      "image/png": "[encoded data removed]",
      "text/plain": [
       "<Figure size 432x288 with 1 Axes>"
      ]
     },
     "metadata": {
      "needs_background": "light"
     },
     "output_type": "display_data"
    }
   ],
   "source": [
    "sns.distplot(df['percentage_of_time_with_abnormal_long_term_variability'])"
   ]
  },
  {
   "cell_type": "code",
   "execution_count": 8,
   "metadata": {},
   "outputs": [
    {
     "data": {
      "text/html": [
       "<div>\n",
       "<style scoped>\n",
       "    .dataframe tbody tr th:only-of-type {\n",
       "        vertical-align: middle;\n",
       "    }\n",
       "\n",
       "    .dataframe tbody tr th {\n",
       "        vertical-align: top;\n",
       "    }\n",
       "\n",
       "    .dataframe thead th {\n",
       "        text-align: right;\n",
       "    }\n",
       "</style>\n",
       "<table border=\"1\" class=\"dataframe\">\n",
       "  <thead>\n",
       "    <tr style=\"text-align: right;\">\n",
       "      <th></th>\n",
       "      <th>count</th>\n",
       "      <th>mean</th>\n",
       "      <th>std</th>\n",
       "      <th>min</th>\n",
       "      <th>25%</th>\n",
       "      <th>50%</th>\n",
       "      <th>75%</th>\n",
       "      <th>max</th>\n",
       "    </tr>\n",
       "  </thead>\n",
       "  <tbody>\n",
       "    <tr>\n",
       "      <th>accelerations</th>\n",
       "      <td>2126.0</td>\n",
       "      <td>0.003178</td>\n",
       "      <td>0.003866</td>\n",
       "      <td>0.0</td>\n",
       "      <td>0.000</td>\n",
       "      <td>0.002</td>\n",
       "      <td>0.006</td>\n",
       "      <td>0.019</td>\n",
       "    </tr>\n",
       "    <tr>\n",
       "      <th>fetal_movement</th>\n",
       "      <td>2126.0</td>\n",
       "      <td>0.009481</td>\n",
       "      <td>0.046666</td>\n",
       "      <td>0.0</td>\n",
       "      <td>0.000</td>\n",
       "      <td>0.000</td>\n",
       "      <td>0.003</td>\n",
       "      <td>0.481</td>\n",
       "    </tr>\n",
       "    <tr>\n",
       "      <th>uterine_contractions</th>\n",
       "      <td>2126.0</td>\n",
       "      <td>0.004366</td>\n",
       "      <td>0.002946</td>\n",
       "      <td>0.0</td>\n",
       "      <td>0.002</td>\n",
       "      <td>0.004</td>\n",
       "      <td>0.007</td>\n",
       "      <td>0.015</td>\n",
       "    </tr>\n",
       "    <tr>\n",
       "      <th>light_decelerations</th>\n",
       "      <td>2126.0</td>\n",
       "      <td>0.001889</td>\n",
       "      <td>0.002960</td>\n",
       "      <td>0.0</td>\n",
       "      <td>0.000</td>\n",
       "      <td>0.000</td>\n",
       "      <td>0.003</td>\n",
       "      <td>0.015</td>\n",
       "    </tr>\n",
       "    <tr>\n",
       "      <th>severe_decelerations</th>\n",
       "      <td>2126.0</td>\n",
       "      <td>0.000003</td>\n",
       "      <td>0.000057</td>\n",
       "      <td>0.0</td>\n",
       "      <td>0.000</td>\n",
       "      <td>0.000</td>\n",
       "      <td>0.000</td>\n",
       "      <td>0.001</td>\n",
       "    </tr>\n",
       "    <tr>\n",
       "      <th>prolongued_decelerations</th>\n",
       "      <td>2126.0</td>\n",
       "      <td>0.000159</td>\n",
       "      <td>0.000590</td>\n",
       "      <td>0.0</td>\n",
       "      <td>0.000</td>\n",
       "      <td>0.000</td>\n",
       "      <td>0.000</td>\n",
       "      <td>0.005</td>\n",
       "    </tr>\n",
       "    <tr>\n",
       "      <th>abnormal_short_term_variability</th>\n",
       "      <td>2126.0</td>\n",
       "      <td>46.990122</td>\n",
       "      <td>17.192814</td>\n",
       "      <td>12.0</td>\n",
       "      <td>32.000</td>\n",
       "      <td>49.000</td>\n",
       "      <td>61.000</td>\n",
       "      <td>87.000</td>\n",
       "    </tr>\n",
       "    <tr>\n",
       "      <th>mean_value_of_short_term_variability</th>\n",
       "      <td>2126.0</td>\n",
       "      <td>1.332785</td>\n",
       "      <td>0.883241</td>\n",
       "      <td>0.2</td>\n",
       "      <td>0.700</td>\n",
       "      <td>1.200</td>\n",
       "      <td>1.700</td>\n",
       "      <td>7.000</td>\n",
       "    </tr>\n",
       "    <tr>\n",
       "      <th>percentage_of_time_with_abnormal_long_term_variability</th>\n",
       "      <td>2126.0</td>\n",
       "      <td>9.846660</td>\n",
       "      <td>18.396880</td>\n",
       "      <td>0.0</td>\n",
       "      <td>0.000</td>\n",
       "      <td>0.000</td>\n",
       "      <td>11.000</td>\n",
       "      <td>91.000</td>\n",
       "    </tr>\n",
       "    <tr>\n",
       "      <th>mean_value_of_long_term_variability</th>\n",
       "      <td>2126.0</td>\n",
       "      <td>8.187629</td>\n",
       "      <td>5.628247</td>\n",
       "      <td>0.0</td>\n",
       "      <td>4.600</td>\n",
       "      <td>7.400</td>\n",
       "      <td>10.800</td>\n",
       "      <td>50.700</td>\n",
       "    </tr>\n",
       "    <tr>\n",
       "      <th>histogram_width</th>\n",
       "      <td>2126.0</td>\n",
       "      <td>70.445908</td>\n",
       "      <td>38.955693</td>\n",
       "      <td>3.0</td>\n",
       "      <td>37.000</td>\n",
       "      <td>67.500</td>\n",
       "      <td>100.000</td>\n",
       "      <td>180.000</td>\n",
       "    </tr>\n",
       "    <tr>\n",
       "      <th>histogram_min</th>\n",
       "      <td>2126.0</td>\n",
       "      <td>93.579492</td>\n",
       "      <td>29.560212</td>\n",
       "      <td>50.0</td>\n",
       "      <td>67.000</td>\n",
       "      <td>93.000</td>\n",
       "      <td>120.000</td>\n",
       "      <td>159.000</td>\n",
       "    </tr>\n",
       "    <tr>\n",
       "      <th>histogram_max</th>\n",
       "      <td>2126.0</td>\n",
       "      <td>164.025400</td>\n",
       "      <td>17.944183</td>\n",
       "      <td>122.0</td>\n",
       "      <td>152.000</td>\n",
       "      <td>162.000</td>\n",
       "      <td>174.000</td>\n",
       "      <td>238.000</td>\n",
       "    </tr>\n",
       "    <tr>\n",
       "      <th>histogram_number_of_peaks</th>\n",
       "      <td>2126.0</td>\n",
       "      <td>4.068203</td>\n",
       "      <td>2.949386</td>\n",
       "      <td>0.0</td>\n",
       "      <td>2.000</td>\n",
       "      <td>3.000</td>\n",
       "      <td>6.000</td>\n",
       "      <td>18.000</td>\n",
       "    </tr>\n",
       "    <tr>\n",
       "      <th>histogram_number_of_zeroes</th>\n",
       "      <td>2126.0</td>\n",
       "      <td>0.323612</td>\n",
       "      <td>0.706059</td>\n",
       "      <td>0.0</td>\n",
       "      <td>0.000</td>\n",
       "      <td>0.000</td>\n",
       "      <td>0.000</td>\n",
       "      <td>10.000</td>\n",
       "    </tr>\n",
       "    <tr>\n",
       "      <th>histogram_mode</th>\n",
       "      <td>2126.0</td>\n",
       "      <td>137.452023</td>\n",
       "      <td>16.381289</td>\n",
       "      <td>60.0</td>\n",
       "      <td>129.000</td>\n",
       "      <td>139.000</td>\n",
       "      <td>148.000</td>\n",
       "      <td>187.000</td>\n",
       "    </tr>\n",
       "    <tr>\n",
       "      <th>histogram_mean</th>\n",
       "      <td>2126.0</td>\n",
       "      <td>134.610536</td>\n",
       "      <td>15.593596</td>\n",
       "      <td>73.0</td>\n",
       "      <td>125.000</td>\n",
       "      <td>136.000</td>\n",
       "      <td>145.000</td>\n",
       "      <td>182.000</td>\n",
       "    </tr>\n",
       "    <tr>\n",
       "      <th>histogram_median</th>\n",
       "      <td>2126.0</td>\n",
       "      <td>138.090310</td>\n",
       "      <td>14.466589</td>\n",
       "      <td>77.0</td>\n",
       "      <td>129.000</td>\n",
       "      <td>139.000</td>\n",
       "      <td>148.000</td>\n",
       "      <td>186.000</td>\n",
       "    </tr>\n",
       "    <tr>\n",
       "      <th>histogram_variance</th>\n",
       "      <td>2126.0</td>\n",
       "      <td>18.808090</td>\n",
       "      <td>28.977636</td>\n",
       "      <td>0.0</td>\n",
       "      <td>2.000</td>\n",
       "      <td>7.000</td>\n",
       "      <td>24.000</td>\n",
       "      <td>269.000</td>\n",
       "    </tr>\n",
       "    <tr>\n",
       "      <th>histogram_tendency</th>\n",
       "      <td>2126.0</td>\n",
       "      <td>0.320320</td>\n",
       "      <td>0.610829</td>\n",
       "      <td>-1.0</td>\n",
       "      <td>0.000</td>\n",
       "      <td>0.000</td>\n",
       "      <td>1.000</td>\n",
       "      <td>1.000</td>\n",
       "    </tr>\n",
       "    <tr>\n",
       "      <th>fetal_health</th>\n",
       "      <td>2126.0</td>\n",
       "      <td>1.304327</td>\n",
       "      <td>0.614377</td>\n",
       "      <td>1.0</td>\n",
       "      <td>1.000</td>\n",
       "      <td>1.000</td>\n",
       "      <td>1.000</td>\n",
       "      <td>3.000</td>\n",
       "    </tr>\n",
       "  </tbody>\n",
       "</table>\n",
       "</div>"
      ],
      "text/plain": [
       "                                                     count        mean  \\\n",
       "accelerations                                       2126.0    0.003178   \n",
       "fetal_movement                                      2126.0    0.009481   \n",
       "uterine_contractions                                2126.0    0.004366   \n",
       "light_decelerations                                 2126.0    0.001889   \n",
       "severe_decelerations                                2126.0    0.000003   \n",
       "prolongued_decelerations                            2126.0    0.000159   \n",
       "abnormal_short_term_variability                     2126.0   46.990122   \n",
       "mean_value_of_short_term_variability                2126.0    1.332785   \n",
       "percentage_of_time_with_abnormal_long_term_vari...  2126.0    9.846660   \n",
       "mean_value_of_long_term_variability                 2126.0    8.187629   \n",
       "histogram_width                                     2126.0   70.445908   \n",
       "histogram_min                                       2126.0   93.579492   \n",
       "histogram_max                                       2126.0  164.025400   \n",
       "histogram_number_of_peaks                           2126.0    4.068203   \n",
       "histogram_number_of_zeroes                          2126.0    0.323612   \n",
       "histogram_mode                                      2126.0  137.452023   \n",
       "histogram_mean                                      2126.0  134.610536   \n",
       "histogram_median                                    2126.0  138.090310   \n",
       "histogram_variance                                  2126.0   18.808090   \n",
       "histogram_tendency                                  2126.0    0.320320   \n",
       "fetal_health                                        2126.0    1.304327   \n",
       "\n",
       "                                                          std    min      25%  \\\n",
       "accelerations                                        0.003866    0.0    0.000   \n",
       "fetal_movement                                       0.046666    0.0    0.000   \n",
       "uterine_contractions                                 0.002946    0.0    0.002   \n",
       "light_decelerations                                  0.002960    0.0    0.000   \n",
       "severe_decelerations                                 0.000057    0.0    0.000   \n",
       "prolongued_decelerations                             0.000590    0.0    0.000   \n",
       "abnormal_short_term_variability                     17.192814   12.0   32.000   \n",
       "mean_value_of_short_term_variability                 0.883241    0.2    0.700   \n",
       "percentage_of_time_with_abnormal_long_term_vari...  18.396880    0.0    0.000   \n",
       "mean_value_of_long_term_variability                  5.628247    0.0    4.600   \n",
       "histogram_width                                     38.955693    3.0   37.000   \n",
       "histogram_min                                       29.560212   50.0   67.000   \n",
       "histogram_max                                       17.944183  122.0  152.000   \n",
       "histogram_number_of_peaks                            2.949386    0.0    2.000   \n",
       "histogram_number_of_zeroes                           0.706059    0.0    0.000   \n",
       "histogram_mode                                      16.381289   60.0  129.000   \n",
       "histogram_mean                                      15.593596   73.0  125.000   \n",
       "histogram_median                                    14.466589   77.0  129.000   \n",
       "histogram_variance                                  28.977636    0.0    2.000   \n",
       "histogram_tendency                                   0.610829   -1.0    0.000   \n",
       "fetal_health                                         0.614377    1.0    1.000   \n",
       "\n",
       "                                                        50%      75%      max  \n",
       "accelerations                                         0.002    0.006    0.019  \n",
       "fetal_movement                                        0.000    0.003    0.481  \n",
       "uterine_contractions                                  0.004    0.007    0.015  \n",
       "light_decelerations                                   0.000    0.003    0.015  \n",
       "severe_decelerations                                  0.000    0.000    0.001  \n",
       "prolongued_decelerations                              0.000    0.000    0.005  \n",
       "abnormal_short_term_variability                      49.000   61.000   87.000  \n",
       "mean_value_of_short_term_variability                  1.200    1.700    7.000  \n",
       "percentage_of_time_with_abnormal_long_term_vari...    0.000   11.000   91.000  \n",
       "mean_value_of_long_term_variability                   7.400   10.800   50.700  \n",
       "histogram_width                                      67.500  100.000  180.000  \n",
       "histogram_min                                        93.000  120.000  159.000  \n",
       "histogram_max                                       162.000  174.000  238.000  \n",
       "histogram_number_of_peaks                             3.000    6.000   18.000  \n",
       "histogram_number_of_zeroes                            0.000    0.000   10.000  \n",
       "histogram_mode                                      139.000  148.000  187.000  \n",
       "histogram_mean                                      136.000  145.000  182.000  \n",
       "histogram_median                                    139.000  148.000  186.000  \n",
       "histogram_variance                                    7.000   24.000  269.000  \n",
       "histogram_tendency                                    0.000    1.000    1.000  \n",
       "fetal_health                                          1.000    1.000    3.000  "
      ]
     },
     "execution_count": 8,
     "metadata": {},
     "output_type": "execute_result"
    }
   ],
   "source": [
    "df.describe().T"
   ]
  },
  {
   "cell_type": "code",
   "execution_count": 9,
   "metadata": {
    "scrolled": false
   },
   "outputs": [],
   "source": [
    "# df.hist(bins=50, figsize=(20,15))\n",
    "# plt.show()"
   ]
  },
  {
   "cell_type": "code",
   "execution_count": 10,
   "metadata": {},
   "outputs": [
    {
     "data": {
      "text/plain": [
       "<matplotlib.axes._subplots.AxesSubplot at 0x7fabee5408d0>"
      ]
     },
     "execution_count": 10,
     "metadata": {},
     "output_type": "execute_result"
    },
    {
     "data": {
      "image/png": "[encoded data removed]",
      "text/plain": [
       "<Figure size 432x288 with 2 Axes>"
      ]
     },
     "metadata": {
      "needs_background": "light"
     },
     "output_type": "display_data"
    }
   ],
   "source": [
    "sns.heatmap(df)"
   ]
  },
  {
   "cell_type": "code",
   "execution_count": 11,
   "metadata": {
    "scrolled": true
   },
   "outputs": [
    {
     "data": {
      "text/plain": [
       "Index(['accelerations', 'fetal_movement', 'uterine_contractions',\n",
       "       'light_decelerations', 'severe_decelerations',\n",
       "       'prolongued_decelerations', 'abnormal_short_term_variability',\n",
       "       'mean_value_of_short_term_variability',\n",
       "       'percentage_of_time_with_abnormal_long_term_variability',\n",
       "       'mean_value_of_long_term_variability', 'histogram_width',\n",
       "       'histogram_min', 'histogram_max', 'histogram_number_of_peaks',\n",
       "       'histogram_number_of_zeroes', 'histogram_mode', 'histogram_mean',\n",
       "       'histogram_median', 'histogram_variance', 'histogram_tendency',\n",
       "       'fetal_health'],\n",
       "      dtype='object')"
      ]
     },
     "execution_count": 11,
     "metadata": {},
     "output_type": "execute_result"
    }
   ],
   "source": [
    "df.columns"
   ]
  },
  {
   "cell_type": "code",
   "execution_count": 12,
   "metadata": {
    "scrolled": true
   },
   "outputs": [],
   "source": [
    "# df.fetal_health_2 = df.fetal_health.apply(lambda x: 1 if x > 1 else 0)"
   ]
  },
  {
   "cell_type": "code",
   "execution_count": 13,
   "metadata": {},
   "outputs": [],
   "source": [
    "# df.fetal_health_2.unique()"
   ]
  },
  {
   "cell_type": "code",
   "execution_count": 14,
   "metadata": {},
   "outputs": [
    {
     "data": {
      "text/plain": [
       "baseline value\n",
       "134    0.010\n",
       "134    0.013\n",
       "122    0.000\n",
       "122    0.002\n",
       "122    0.003\n",
       "       ...  \n",
       "140    0.008\n",
       "140    0.006\n",
       "140    0.007\n",
       "140    0.005\n",
       "142    0.008\n",
       "Name: uterine_contractions, Length: 2126, dtype: float64"
      ]
     },
     "execution_count": 14,
     "metadata": {},
     "output_type": "execute_result"
    }
   ],
   "source": [
    "df.uterine_contractions"
   ]
  },
  {
   "cell_type": "code",
   "execution_count": 15,
   "metadata": {},
   "outputs": [],
   "source": [
    "# df['uterine_count_per_min'] = df.uterine_contractions * 60"
   ]
  },
  {
   "cell_type": "code",
   "execution_count": 16,
   "metadata": {},
   "outputs": [],
   "source": [
    "# df['uterine_ten_min'] = df['uterine_count_per_min'] * 10"
   ]
  },
  {
   "cell_type": "code",
   "execution_count": 17,
   "metadata": {
    "scrolled": true
   },
   "outputs": [],
   "source": [
    "# df.uterine_ten_min.value_counts(ascending=False)"
   ]
  },
  {
   "cell_type": "markdown",
   "metadata": {},
   "source": [
    "## Features and Target"
   ]
  },
  {
   "cell_type": "code",
   "execution_count": 19,
   "metadata": {},
   "outputs": [],
   "source": [
    "X = df.drop(columns=['fetal_health'])\n",
    "y = df.fetal_health"
   ]
  },
  {
   "cell_type": "markdown",
   "metadata": {},
   "source": [
    "## Train Test Split"
   ]
  },
  {
   "cell_type": "code",
   "execution_count": 20,
   "metadata": {},
   "outputs": [
    {
     "name": "stdout",
     "output_type": "stream",
     "text": [
      "(1488, 20)\n",
      "(638, 20)\n",
      "(1488,)\n",
      "(638,)\n"
     ]
    }
   ],
   "source": [
    "X_train, X_test, y_train, y_test = train_test_split(X, y, test_size=.3,random_state=1)\n",
    "\n",
    "print(X_train.shape)\n",
    "print(X_test.shape)\n",
    "print(y_train.shape)\n",
    "print(y_test.shape)"
   ]
  },
  {
   "cell_type": "markdown",
   "metadata": {},
   "source": [
    "# BASELINE MODELS"
   ]
  },
  {
   "cell_type": "markdown",
   "metadata": {},
   "source": [
    "## Logistic Regression"
   ]
  },
  {
   "cell_type": "code",
   "execution_count": 21,
   "metadata": {
    "scrolled": true
   },
   "outputs": [
    {
     "name": "stdout",
     "output_type": "stream",
     "text": [
      "Accuracy: 0.8605015673981191\n",
      "F1 Score: 0.8462795416915531\n"
     ]
    },
    {
     "name": "stderr",
     "output_type": "stream",
     "text": [
      "/opt/anaconda3/envs/learn-env/lib/python3.6/site-packages/sklearn/linear_model/_logistic.py:764: ConvergenceWarning: lbfgs failed to converge (status=1):\n",
      "STOP: TOTAL NO. of ITERATIONS REACHED LIMIT.\n",
      "\n",
      "Increase the number of iterations (max_iter) or scale the data as shown in:\n",
      "    https://scikit-learn.org/stable/modules/preprocessing.html\n",
      "Please also refer to the documentation for alternative solver options:\n",
      "    https://scikit-learn.org/stable/modules/linear_model.html#logistic-regression\n",
      "  extra_warning_msg=_LOGISTIC_SOLVER_CONVERGENCE_MSG)\n"
     ]
    }
   ],
   "source": [
    "lr = LogisticRegression()\n",
    "lr.fit(X_train, y_train)\n",
    "y_pred_lr = lr.predict(X_test)\n",
    "\n",
    "print('Accuracy: ' + str(metrics.accuracy_score(y_test, y_pred_lr)))\n",
    "# print('Recall: ' + str(metrics.recall_score(y_test, y_pred_lr)))\n",
    "# print('Precision: ' + str(metrics.precision_score(y_test, y_pred_lr))\n",
    "print('F1 Score: ' + str(metrics.f1_score(y_test, y_pred_lr, average='weighted')))"
   ]
  },
  {
   "cell_type": "markdown",
   "metadata": {},
   "source": [
    "## KNN"
   ]
  },
  {
   "cell_type": "code",
   "execution_count": 22,
   "metadata": {},
   "outputs": [],
   "source": [
    "# df_scalled = df.copy()"
   ]
  },
  {
   "cell_type": "code",
   "execution_count": 26,
   "metadata": {
    "scrolled": false
   },
   "outputs": [],
   "source": [
    "# from sklearn.preprocessing import StandardScaler\n",
    "# scaler = StandardScaler()\n",
    "# scaler.fit(df)\n",
    "# scaler.transform(df)"
   ]
  },
  {
   "cell_type": "code",
   "execution_count": 24,
   "metadata": {},
   "outputs": [
    {
     "name": "stdout",
     "output_type": "stream",
     "text": [
      "Accuracy: 0.8824451410658307\n",
      "F1 Score: 0.8733026991843953\n"
     ]
    }
   ],
   "source": [
    "knn = KNeighborsClassifier(n_neighbors=8)\n",
    "knn.fit(X_train,y_train)\n",
    "\n",
    "y_pred_knn = knn.predict(X_test)\n",
    "print('Accuracy: ' + str(metrics.accuracy_score(y_test, y_pred_knn)))\n",
    "# print('Recall: ' + str(metrics.recall_score(y_test, y_pred_knn)))\n",
    "# print('Precision: ' + str(metrics.precision_score(y_test, y_pred_knn)))\n",
    "print('F1 Score: ' + str(metrics.f1_score(y_test, y_pred_knn,average='weighted')))\n"
   ]
  },
  {
   "cell_type": "markdown",
   "metadata": {},
   "source": [
    "# IMPROVED MODELS"
   ]
  },
  {
   "cell_type": "markdown",
   "metadata": {},
   "source": [
    "### Logistic Regression"
   ]
  },
  {
   "cell_type": "code",
   "execution_count": null,
   "metadata": {},
   "outputs": [],
   "source": [
    "# Baseline Logistic Regression Model\n",
    "\n",
    "lr = LogisticRegression()\n",
    "lr.fit(X_train,y_train)\n",
    "ypred_lr = lr.predict(X_test)\n",
    "\n",
    "# Baseline Model Evaluation\n",
    "print(\"Accuracy: \"+ str(metrics.accuracy_score(y_test,ypred_lr)))\n",
    "print('Recall: '+ str(metrics.recall_score(y_test,ypred_lr)))\n",
    "print('F1 Score: '+ str(metrics.f1_score(y_test,ypred_lr)))"
   ]
  },
  {
   "cell_type": "code",
   "execution_count": null,
   "metadata": {},
   "outputs": [],
   "source": [
    "from imblearn.over_sampling import SMOTE"
   ]
  },
  {
   "cell_type": "markdown",
   "metadata": {},
   "source": [
    "### KNN"
   ]
  },
  {
   "cell_type": "code",
   "execution_count": 27,
   "metadata": {},
   "outputs": [
    {
     "name": "stdout",
     "output_type": "stream",
     "text": [
      "Accuracy: 0.8793103448275862\n",
      "F1 Score: 0.872186591677992\n"
     ]
    }
   ],
   "source": [
    "# Baseline KNN Model\n",
    "\n",
    "knn = KNeighborsClassifier(n_neighbors=1)\n",
    "knn.fit(X_train,y_train)\n",
    "ypred_knn = knn.predict(X_test)\n",
    "\n",
    "# Baseline Model Evaluation\n",
    "print(\"Accuracy: \"+ str(metrics.accuracy_score(y_test,ypred_knn)))\n",
    "print('Recall: '+ str(metrics.recall_score(y_test,ypred_knn)))\n",
    "print('F1 Score: '+ str(metrics.f1_score(y_test,ypred_knn)))"
   ]
  },
  {
   "cell_type": "markdown",
   "metadata": {},
   "source": [
    "### Decision Tree"
   ]
  },
  {
   "cell_type": "code",
   "execution_count": 29,
   "metadata": {},
   "outputs": [
    {
     "ename": "TypeError",
     "evalue": "__init__() got an unexpected keyword argument 'n_estimators'",
     "output_type": "error",
     "traceback": [
      "\u001b[0;31m---------------------------------------------------------------------------\u001b[0m",
      "\u001b[0;31mTypeError\u001b[0m                                 Traceback (most recent call last)",
      "\u001b[0;32m<ipython-input-29-9204c51e569b>\u001b[0m in \u001b[0;36m<module>\u001b[0;34m()\u001b[0m\n\u001b[0;32m----> 1\u001b[0;31m \u001b[0mtree\u001b[0m \u001b[0;34m=\u001b[0m \u001b[0mDecisionTreeClassifier\u001b[0m\u001b[0;34m(\u001b[0m\u001b[0mrandom_state\u001b[0m\u001b[0;34m=\u001b[0m\u001b[0;36m1\u001b[0m\u001b[0;34m,\u001b[0m \u001b[0mn_estimators\u001b[0m\u001b[0;34m=\u001b[0m\u001b[0;36m50\u001b[0m\u001b[0;34m,\u001b[0m \u001b[0mmax_depth\u001b[0m\u001b[0;34m=\u001b[0m\u001b[0;36m3\u001b[0m\u001b[0;34m,\u001b[0m \u001b[0mn_jobs\u001b[0m\u001b[0;34m=\u001b[0m \u001b[0;34m-\u001b[0m\u001b[0;36m1\u001b[0m\u001b[0;34m,\u001b[0m \u001b[0mverbose\u001b[0m\u001b[0;34m=\u001b[0m\u001b[0;36m1\u001b[0m\u001b[0;34m)\u001b[0m\u001b[0;34m\u001b[0m\u001b[0;34m\u001b[0m\u001b[0m\n\u001b[0m\u001b[1;32m      2\u001b[0m \u001b[0;34m\u001b[0m\u001b[0m\n\u001b[1;32m      3\u001b[0m \u001b[0mtree\u001b[0m\u001b[0;34m.\u001b[0m\u001b[0mfit\u001b[0m\u001b[0;34m(\u001b[0m\u001b[0mX_train\u001b[0m\u001b[0;34m,\u001b[0m \u001b[0my_train\u001b[0m\u001b[0;34m)\u001b[0m\u001b[0;34m\u001b[0m\u001b[0;34m\u001b[0m\u001b[0m\n\u001b[1;32m      4\u001b[0m \u001b[0my_pred_tree\u001b[0m \u001b[0;34m=\u001b[0m \u001b[0mtree\u001b[0m\u001b[0;34m.\u001b[0m\u001b[0mpredict\u001b[0m\u001b[0;34m(\u001b[0m\u001b[0mX_test\u001b[0m\u001b[0;34m)\u001b[0m\u001b[0;34m\u001b[0m\u001b[0;34m\u001b[0m\u001b[0m\n",
      "\u001b[0;32m/opt/anaconda3/envs/learn-env/lib/python3.6/site-packages/sklearn/utils/validation.py\u001b[0m in \u001b[0;36minner_f\u001b[0;34m(*args, **kwargs)\u001b[0m\n\u001b[1;32m     70\u001b[0m                           FutureWarning)\n\u001b[1;32m     71\u001b[0m         \u001b[0mkwargs\u001b[0m\u001b[0;34m.\u001b[0m\u001b[0mupdate\u001b[0m\u001b[0;34m(\u001b[0m\u001b[0;34m{\u001b[0m\u001b[0mk\u001b[0m\u001b[0;34m:\u001b[0m \u001b[0marg\u001b[0m \u001b[0;32mfor\u001b[0m \u001b[0mk\u001b[0m\u001b[0;34m,\u001b[0m \u001b[0marg\u001b[0m \u001b[0;32min\u001b[0m \u001b[0mzip\u001b[0m\u001b[0;34m(\u001b[0m\u001b[0msig\u001b[0m\u001b[0;34m.\u001b[0m\u001b[0mparameters\u001b[0m\u001b[0;34m,\u001b[0m \u001b[0margs\u001b[0m\u001b[0;34m)\u001b[0m\u001b[0;34m}\u001b[0m\u001b[0;34m)\u001b[0m\u001b[0;34m\u001b[0m\u001b[0;34m\u001b[0m\u001b[0m\n\u001b[0;32m---> 72\u001b[0;31m         \u001b[0;32mreturn\u001b[0m \u001b[0mf\u001b[0m\u001b[0;34m(\u001b[0m\u001b[0;34m**\u001b[0m\u001b[0mkwargs\u001b[0m\u001b[0;34m)\u001b[0m\u001b[0;34m\u001b[0m\u001b[0;34m\u001b[0m\u001b[0m\n\u001b[0m\u001b[1;32m     73\u001b[0m     \u001b[0;32mreturn\u001b[0m \u001b[0minner_f\u001b[0m\u001b[0;34m\u001b[0m\u001b[0;34m\u001b[0m\u001b[0m\n\u001b[1;32m     74\u001b[0m \u001b[0;34m\u001b[0m\u001b[0m\n",
      "\u001b[0;31mTypeError\u001b[0m: __init__() got an unexpected keyword argument 'n_estimators'"
     ]
    }
   ],
   "source": [
    "# Baseline Decision Tree Model\n",
    "tree = DecisionTreeClassifier()\n",
    "tree = tree.fit(X_train,y_train)\n",
    "y_pred_tree = tree.predict(X_test)\n",
    "\n",
    "# Baseline Model Evaluation\n",
    "print(\"Accuracy: \"+ str(metrics.accuracy_score(y_test,y_pred_tree)))\n",
    "print('Recall: '+ str(metrics.recall_score(y_test,y_pred_tree)))\n",
    "print('F1 Score: '+ str(metrics.f1_score(y_test,y_pred_tree)))"
   ]
  },
  {
   "cell_type": "code",
   "execution_count": null,
   "metadata": {},
   "outputs": [],
   "source": [
    "# Baseline Random Forest Model\n",
    "rfc = RandomForestClassifier(random_state =1, n_estimators= 50, max_depth = 3, n_jobs =-1,verbose=1)\n",
    "rfc.fit(X_train,y_train)\n",
    "rfc_preds = rfc.predict(X_test)\n",
    "\n",
    "# Baseline Model Evaluation\n",
    "print(\"Accuracy: \"+ str(metrics.accuracy_score(y_test,rfc_preds)))\n",
    "print('Recall: '+ str(metrics.recall_score(y_test,rfc_preds)))\n",
    "print('F1 Score: '+ str(metrics.f1_score(y_test,rfc_preds)))"
   ]
  },
  {
   "cell_type": "code",
   "execution_count": null,
   "metadata": {},
   "outputs": [],
   "source": []
  },
  {
   "cell_type": "code",
   "execution_count": null,
   "metadata": {},
   "outputs": [],
   "source": []
  },
  {
   "cell_type": "code",
   "execution_count": null,
   "metadata": {},
   "outputs": [],
   "source": []
  },
  {
   "cell_type": "code",
   "execution_count": null,
   "metadata": {},
   "outputs": [],
   "source": []
  },
  {
   "cell_type": "code",
   "execution_count": null,
   "metadata": {},
   "outputs": [],
   "source": []
  },
  {
   "cell_type": "code",
   "execution_count": null,
   "metadata": {},
   "outputs": [],
   "source": []
  },
  {
   "cell_type": "code",
   "execution_count": null,
   "metadata": {},
   "outputs": [],
   "source": []
  },
  {
   "cell_type": "code",
   "execution_count": null,
   "metadata": {},
   "outputs": [],
   "source": []
  },
  {
   "cell_type": "code",
   "execution_count": null,
   "metadata": {},
   "outputs": [],
   "source": []
  }
 ],
 "metadata": {
  "kernelspec": {
   "display_name": "learn-env",
   "language": "python",
   "name": "learn-env"
  },
  "language_info": {
   "codemirror_mode": {
    "name": "ipython",
    "version": 3
   },
   "file_extension": ".py",
   "mimetype": "text/x-python",
   "name": "python",
   "nbconvert_exporter": "python",
   "pygments_lexer": "ipython3",
   "version": "3.6.9"
  }
 },
 "nbformat": 4,
 "nbformat_minor": 4
}
